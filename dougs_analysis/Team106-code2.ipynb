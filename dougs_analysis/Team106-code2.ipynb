{
  "cells": [
    {
      "cell_type": "code",
      "execution_count": null,
      "id": "7d0461f3-d332-485d-91b9-ee767f694de0",
      "metadata": {
        "id": "7d0461f3-d332-485d-91b9-ee767f694de0"
      },
      "outputs": [],
      "source": [
        "from glob import glob\n",
        "import os\n",
        "\n",
        "from dask.distributed import LocalCluster\n",
        "import pandas as pd\n",
        "import pyarrow.dataset as pads\n",
        "import pyarrow.csv as pcsv\n",
        "import pyarrow.compute as pc\n",
        "\n",
        "import numpy as np"
      ]
    },
    {
      "cell_type": "code",
      "execution_count": null,
      "id": "43e1c304-bbe4-4ac6-b4ba-8bbe1367e609",
      "metadata": {
        "id": "43e1c304-bbe4-4ac6-b4ba-8bbe1367e609"
      },
      "outputs": [],
      "source": [
        "each_game = glob('../data/2024_SMT_Data_Challenge/game_info/**/*.csv', recursive=True)\n",
        "#This can be changed depending on location of data"
      ]
    },
    {
      "cell_type": "code",
      "execution_count": null,
      "id": "a02ba43e-57f4-40e5-b488-ec2b7ffdb633",
      "metadata": {
        "id": "a02ba43e-57f4-40e5-b488-ec2b7ffdb633"
      },
      "outputs": [],
      "source": [
        "each_game = [game.replace('game_info', '{}', 2)for game in each_game]"
      ]
    },
    {
      "cell_type": "code",
      "execution_count": null,
      "id": "f87c26e0-0821-4cd6-81e8-97d9029f0118",
      "metadata": {
        "id": "f87c26e0-0821-4cd6-81e8-97d9029f0118"
      },
      "outputs": [],
      "source": [
        "def get_data_from_game(game_path, table_type, columns, filter=None):\n",
        "    game_events_path = game_path.replace(\"{}\", table_type, 2)\n",
        "    game_events_table = pcsv.read_csv(game_events_path, convert_options=pcsv.ConvertOptions(\n",
        "        include_columns=columns\n",
        "    ))\n",
        "    if filter is not None:\n",
        "        return game_events_table.filter(filter).to_pandas()\n",
        "    return game_events_table.to_pandas()"
      ]
    },
    {
      "cell_type": "code",
      "execution_count": null,
      "id": "2ec7a4f7-c3d9-4e15-8f52-8d529efc5861",
      "metadata": {
        "id": "2ec7a4f7-c3d9-4e15-8f52-8d529efc5861"
      },
      "outputs": [],
      "source": [
        "def handle_game(game_path):\n",
        "    pitches = get_data_from_game(\n",
        "        game_path,\n",
        "        \"game_events\",\n",
        "        ['game_str', 'timestamp', 'play_per_game', 'event_code'],\n",
        "        pc.field('event_code')==1\n",
        "    )\n",
        "    pitch_info_list = []\n",
        "    for _, pitch in pitches.iterrows():\n",
        "        pitch_info_list.append(\n",
        "            handle_pitch(game_path, pitch)\n",
        "        )\n",
        "    return pitch_info_list"
      ]
    },
    {
      "cell_type": "code",
      "execution_count": null,
      "id": "3a36c114-cbb6-417d-9e31-2819a6cd2875",
      "metadata": {
        "id": "3a36c114-cbb6-417d-9e31-2819a6cd2875"
      },
      "outputs": [],
      "source": [
        "def handle_pitch(game_path, pitch):\n",
        "    pitcher_position_code = 1\n",
        "    ball_pos_df = get_data_from_game(\n",
        "        game_path,\n",
        "        \"ball_pos\",\n",
        "        ['ball_position_x', 'ball_position_y', 'ball_position_z', 'timestamp'],\n",
        "        pc.field(\"timestamp\")==pitch.timestamp\n",
        "    )\n",
        "    player_pos_df = get_data_from_game(\n",
        "        game_path,\n",
        "        \"player_pos\",\n",
        "        ['field_x', 'field_y', 'timestamp', 'player_position'],\n",
        "        ((pc.field(\"timestamp\")==pitch.timestamp) & (pc.field(\"player_position\")==pitcher_position_code))\n",
        "    )\n",
        "    game_info_df = get_data_from_game(\n",
        "        game_path,\n",
        "        \"game_info\",\n",
        "        ['play_per_game', 'pitcher'],\n",
        "        pc.field('play_per_game')==pitch.play_per_game\n",
        "    )\n",
        "    try:\n",
        "        game_str = pitch.game_str\n",
        "        timestamp = pitch.timestamp\n",
        "        play_per_game = pitch.play_per_game\n",
        "        x_ball_pos = ball_pos_df.iloc[0].ball_position_x\n",
        "        y_ball_pos = ball_pos_df.iloc[0].ball_position_y\n",
        "        z_ball_pos = ball_pos_df.iloc[0].ball_position_z\n",
        "        x_pitcher_pos = player_pos_df.iloc[0].field_x\n",
        "        y_pitcher_pos = player_pos_df.iloc[0].field_y\n",
        "        pitcher_player_id = game_info_df.iloc[0].pitcher\n",
        "    except IndexError:\n",
        "        return {\n",
        "        \"game_str\": np.nan,\n",
        "        \"timestamp\": np.nan,\n",
        "        \"play_per_game\": np.nan,\n",
        "        \"x_ball_pos\": np.nan,\n",
        "        \"y_ball_pos\": np.nan,\n",
        "        \"z_ball_pos\": np.nan,\n",
        "        \"x_pitcher_pos\": np.nan,\n",
        "        \"y_pitcher_pos\": np.nan,\n",
        "        \"pitcher_player_id\": np.nan\n",
        "        }\n",
        "    return {\n",
        "        \"game_str\": game_str,\n",
        "        \"timestamp\": timestamp,\n",
        "        \"play_per_game\": play_per_game,\n",
        "        \"x_ball_pos\": x_ball_pos,\n",
        "        \"y_ball_pos\": y_ball_pos,\n",
        "        \"z_ball_pos\": z_ball_pos,\n",
        "        \"x_pitcher_pos\": x_pitcher_pos,\n",
        "        \"y_pitcher_pos\": y_pitcher_pos,\n",
        "        \"pitcher_player_id\": pitcher_player_id\n",
        "    }"
      ]
    },
    {
      "cell_type": "code",
      "execution_count": null,
      "id": "a5fadf4b-86e8-43bc-b5f3-e6061d6e4d75",
      "metadata": {
        "colab": {
          "referenced_widgets": [
            "f02f7660c4ff41e1b8a941ed7a92d412"
          ]
        },
        "id": "a5fadf4b-86e8-43bc-b5f3-e6061d6e4d75",
        "outputId": "fd9424bb-dd72-4462-b398-f6b9d82c901c"
      },
      "outputs": [
        {
          "data": {
            "application/vnd.jupyter.widget-view+json": {
              "model_id": "f02f7660c4ff41e1b8a941ed7a92d412",
              "version_major": 2,
              "version_minor": 0
            },
            "text/plain": [
              "  0%|          | 0/338 [00:00<?, ?it/s]"
            ]
          },
          "metadata": {},
          "output_type": "display_data"
        }
      ],
      "source": [
        "from tqdm.notebook import tqdm\n",
        "all_pitches = []\n",
        "for game in tqdm(each_game):\n",
        "    game_result = handle_game(game)\n",
        "    for pitch in game_result:\n",
        "        all_pitches.append(pitch)"
      ]
    },
    {
      "cell_type": "code",
      "execution_count": null,
      "id": "966d8a73-2f2c-49c4-a6d1-2d08d33cbbb8",
      "metadata": {
        "id": "966d8a73-2f2c-49c4-a6d1-2d08d33cbbb8"
      },
      "outputs": [],
      "source": [
        "df = pd.DataFrame(all_pitches)"
      ]
    },
    {
      "cell_type": "code",
      "execution_count": null,
      "id": "52982243-6cf4-48e7-9f39-680adbca6560",
      "metadata": {
        "id": "52982243-6cf4-48e7-9f39-680adbca6560",
        "outputId": "9819c267-3a63-4f05-b8c2-cf2beaa4810e"
      },
      "outputs": [
        {
          "data": {
            "image/png": "[encoded data removed]",
            "text/plain": [
              "<Figure size 1000x600 with 1 Axes>"
            ]
          },
          "metadata": {},
          "output_type": "display_data"
        }
      ],
      "source": [
        "import matplotlib.pyplot as plt\n",
        "\n",
        "filter = df['y_pitcher_pos'] > 50\n",
        "\n",
        "plt.figure(figsize=(10, 6))\n",
        "plt.scatter(df.loc[filter]['x_pitcher_pos'], df.loc[filter]['y_pitcher_pos'], marker='o')\n",
        "# plt.scatter(df['x_pitcher_pos'], df['y_pitcher_pos'], marker='o')\n",
        "plt.title('Pitcher Position')\n",
        "plt.xlabel('x')\n",
        "plt.ylabel('y')\n",
        "plt.grid(True)\n",
        "plt.show()"
      ]
    },
    {
      "cell_type": "code",
      "execution_count": null,
      "id": "1fe28c64-4062-4f65-8bcb-80ba2d7a9116",
      "metadata": {
        "colab": {
          "referenced_widgets": [
            "509c306a36f84ab4b237a08acdbd9422"
          ]
        },
        "id": "1fe28c64-4062-4f65-8bcb-80ba2d7a9116",
        "outputId": "3f191834-752c-45b6-ef74-a4af25ae09e0"
      },
      "outputs": [
        {
          "data": {
            "application/vnd.jupyter.widget-view+json": {
              "model_id": "509c306a36f84ab4b237a08acdbd9422",
              "version_major": 2,
              "version_minor": 0
            },
            "text/plain": [
              "interactive(children=(Dropdown(description='Filter:', options=(768.0, 2579.0, 645.0, 6366.0, 987.0, 5302.0, 94…"
            ]
          },
          "execution_count": 5,
          "metadata": {},
          "output_type": "execute_result"
        }
      ],
      "source": [
        "import matplotlib.pyplot as plt\n",
        "import ipywidgets as widgets\n",
        "from IPython.display import display\n",
        "\n",
        "filter_dropdown = widgets.Dropdown(\n",
        "    options=df.pitcher_player_id.replace('\\\\N', np.nan).dropna().unique(),\n",
        "    description='Filter:'\n",
        ")\n",
        "\n",
        "# Define the plotting function\n",
        "def plot_data(filter_val):\n",
        "    filtered_df = df[df['pitcher_player_id'] == filter_val]\n",
        "    plt.figure(figsize=(10, 6))\n",
        "    plt.scatter(filtered_df['x_pitcher_pos'], filtered_df['y_pitcher_pos'], marker='.', label=\"Pitcher Position\")\n",
        "    plt.scatter(filtered_df['x_ball_pos'], filtered_df['y_ball_pos'], marker='.', label=\"Ball Position\")\n",
        "    plt.title(f'Plot of pitcher and ball location (Pitcher Player ID = {filter_val})')\n",
        "    plt.xlabel('x')\n",
        "    plt.ylabel('y')\n",
        "    plt.grid(True)\n",
        "    plt.legend()\n",
        "    plt.show()\n",
        "\n",
        "# Link the widgets to the plotting function\n",
        "interactive_plot = widgets.interactive(plot_data, filter_val=filter_dropdown)\n",
        "\n",
        "# display(filter_dropdown)\n",
        "interactive_plot"
      ]
    },
    {
      "cell_type": "code",
      "execution_count": null,
      "id": "31241946-ac45-4003-b517-a158595c40b4",
      "metadata": {
        "id": "31241946-ac45-4003-b517-a158595c40b4",
        "outputId": "6f24baf5-b9db-4971-fd71-91921268180a"
      },
      "outputs": [
        {
          "data": {
            "text/plain": [
              "array([768.0, 2579.0, 645.0, ..., '7024', '7374', '3750'], dtype=object)"
            ]
          },
          "execution_count": 4,
          "metadata": {},
          "output_type": "execute_result"
        }
      ],
      "source": [
        "df.pitcher_player_id.replace('\\\\N', np.nan).dropna().unique()"
      ]
    },
    {
      "cell_type": "code",
      "execution_count": null,
      "id": "38ca8088-3a7e-45b1-80a4-8142399ca6e4",
      "metadata": {
        "id": "38ca8088-3a7e-45b1-80a4-8142399ca6e4",
        "outputId": "ecb8df97-d3ca-4bc2-80c1-72ac983e00ba"
      },
      "outputs": [
        {
          "data": {
            "text/plain": [
              "0         768.0\n",
              "7        2579.0\n",
              "60          NaN\n",
              "219       645.0\n",
              "228      6366.0\n",
              "          ...  \n",
              "92556      2414\n",
              "92741      6865\n",
              "92786      7024\n",
              "92851      7374\n",
              "93015      3750\n",
              "Name: pitcher_player_id, Length: 1015, dtype: object"
            ]
          },
          "execution_count": 5,
          "metadata": {},
          "output_type": "execute_result"
        }
      ],
      "source": [
        "df.pitcher_player_id.drop_duplicates()"
      ]
    },
    {
      "cell_type": "code",
      "execution_count": null,
      "id": "877927b7-a187-4776-b940-2b7cdf0d5869",
      "metadata": {
        "id": "877927b7-a187-4776-b940-2b7cdf0d5869",
        "outputId": "68f77adf-6d74-4e19-9242-075b8cc07a4d"
      },
      "outputs": [
        {
          "data": {
            "text/plain": [
              "pitcher_player_id\n",
              "674.0     1187\n",
              "722.0     1082\n",
              "849.0      896\n",
              "933.0      876\n",
              "966.0      854\n",
              "          ... \n",
              "664076       2\n",
              "7913.0       1\n",
              "6695.0       1\n",
              "2534         1\n",
              "2770.0       1\n",
              "Name: count, Length: 1014, dtype: int64"
            ]
          },
          "execution_count": 6,
          "metadata": {},
          "output_type": "execute_result"
        }
      ],
      "source": [
        "df.pitcher_player_id.value_counts()"
      ]
    },
    {
      "cell_type": "code",
      "execution_count": null,
      "id": "976807fb-0e96-4ab9-835d-4ab7cc92d22f",
      "metadata": {
        "id": "976807fb-0e96-4ab9-835d-4ab7cc92d22f"
      },
      "outputs": [],
      "source": [
        "df['ball_dif'] = df.apply(lambda row: row.x_pitcher_pos - row.x_ball_pos, axis=1)"
      ]
    },
    {
      "cell_type": "code",
      "execution_count": null,
      "id": "00d2de21-bed4-4ae4-bdf6-a276501ae765",
      "metadata": {
        "id": "00d2de21-bed4-4ae4-bdf6-a276501ae765"
      },
      "outputs": [],
      "source": [
        "pitcher_is_righty ={}\n",
        "for pitcher in df.pitcher_player_id.replace('\\\\N', np.nan).dropna().unique():\n",
        "    pitcher_is_righty[pitcher] = np.mean(df[df.pitcher_player_id == pitcher].ball_dif) > 0"
      ]
    },
    {
      "cell_type": "code",
      "execution_count": null,
      "id": "66a196fc-a05d-40cb-a508-e9c4b66f8514",
      "metadata": {
        "id": "66a196fc-a05d-40cb-a508-e9c4b66f8514"
      },
      "outputs": [],
      "source": [
        "df['pitcher_is_righty'] = df.apply(lambda row: pitcher_is_righty[row.pitcher_player_id] if row.pitcher_player_id in pitcher_is_righty else None, axis=1)"
      ]
    },
    {
      "cell_type": "code",
      "execution_count": null,
      "id": "48f0b1e7-b3bc-424d-92db-1ac8d6b6cd05",
      "metadata": {
        "id": "48f0b1e7-b3bc-424d-92db-1ac8d6b6cd05"
      },
      "outputs": [],
      "source": [
        "df.to_csv('Team106-results2-pitcher-location.csv', index=False)"
      ]
    }
  ],
  "metadata": {
    "kernelspec": {
      "display_name": "Python 3 (ipykernel)",
      "language": "python",
      "name": "python3"
    },
    "language_info": {
      "codemirror_mode": {
        "name": "ipython",
        "version": 3
      },
      "file_extension": ".py",
      "mimetype": "text/x-python",
      "name": "python",
      "nbconvert_exporter": "python",
      "pygments_lexer": "ipython3",
      "version": "3.12.0"
    },
    "colab": {
      "provenance": []
    }
  },
  "nbformat": 4,
  "nbformat_minor": 5
}