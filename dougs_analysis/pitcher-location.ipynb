{
 "cells": [
  {
   "cell_type": "code",
   "execution_count": 1,
   "id": "7d0461f3-d332-485d-91b9-ee767f694de0",
   "metadata": {},
   "outputs": [],
   "source": [
    "import os\n",
    "\n",
    "from dask.distributed import LocalCluster\n",
    "import pandas as pd\n",
    "import pyarrow.dataset as pads\n",
    "import pyarrow.csv as pv"
   ]
  },
  {
   "cell_type": "code",
   "execution_count": 2,
   "id": "a2855df1-b519-4665-bced-3cf5aa60b353",
   "metadata": {},
   "outputs": [],
   "source": [
    "def readDataSubset(table_type, data_path=\"2024_SMT_Data_Challenge\"):\n",
    "    if table_type not in ['ball_pos', 'game_events', 'game_info', 'player_pos', 'team_info']:\n",
    "        print(\"Invalid data subset name. Please try again with a valid data subset.\")\n",
    "        return -1\n",
    "\n",
    "    data_path_elements = ['..', 'data', data_path,]\n",
    "\n",
    "    if table_type == 'team_info':\n",
    "        return pads.dataset(source = os.path.join(*data_path_elements, 'team_info.csv'),\n",
    "                            format = 'csv')\n",
    "\n",
    "    else:\n",
    "        return pads.dataset(source = os.path.join(*data_path_elements, table_type),\n",
    "                            format = 'csv',\n",
    "                            partitioning = ['Season', 'HomeTeam', 'AwayTeam', 'Day'])"
   ]
  },
  {
   "cell_type": "code",
   "execution_count": 3,
   "id": "a3126b98-9876-4c55-ae34-b41057f4fbdc",
   "metadata": {},
   "outputs": [],
   "source": [
    "game_events_ds = readDataSubset('game_events')"
   ]
  },
  {
   "cell_type": "code",
   "execution_count": 4,
   "id": "26f90762-55f4-4ec9-bdd7-5046680410fc",
   "metadata": {},
   "outputs": [],
   "source": [
    "pitches_only_criteria = (pads.field(\"event_code\") == 1)"
   ]
  },
  {
   "cell_type": "code",
   "execution_count": 5,
   "id": "4cc19544-161b-421c-b9db-d0590d81f44c",
   "metadata": {},
   "outputs": [
    {
     "data": {
      "text/html": [
       "<div>\n",
       "<style scoped>\n",
       "    .dataframe tbody tr th:only-of-type {\n",
       "        vertical-align: middle;\n",
       "    }\n",
       "\n",
       "    .dataframe tbody tr th {\n",
       "        vertical-align: top;\n",
       "    }\n",
       "\n",
       "    .dataframe thead th {\n",
       "        text-align: right;\n",
       "    }\n",
       "</style>\n",
       "<table border=\"1\" class=\"dataframe\">\n",
       "  <thead>\n",
       "    <tr style=\"text-align: right;\">\n",
       "      <th></th>\n",
       "      <th>game_str</th>\n",
       "      <th>timestamp</th>\n",
       "      <th>play_per_game</th>\n",
       "    </tr>\n",
       "  </thead>\n",
       "  <tbody>\n",
       "    <tr>\n",
       "      <th>0</th>\n",
       "      <td>1883_001_Vis1AB_Home1A</td>\n",
       "      <td>51773</td>\n",
       "      <td>1</td>\n",
       "    </tr>\n",
       "    <tr>\n",
       "      <th>1</th>\n",
       "      <td>1883_001_Vis1AB_Home1A</td>\n",
       "      <td>67373</td>\n",
       "      <td>2</td>\n",
       "    </tr>\n",
       "    <tr>\n",
       "      <th>2</th>\n",
       "      <td>1883_001_Vis1AB_Home1A</td>\n",
       "      <td>101623</td>\n",
       "      <td>3</td>\n",
       "    </tr>\n",
       "    <tr>\n",
       "      <th>3</th>\n",
       "      <td>1883_001_Vis1AB_Home1A</td>\n",
       "      <td>114323</td>\n",
       "      <td>4</td>\n",
       "    </tr>\n",
       "    <tr>\n",
       "      <th>4</th>\n",
       "      <td>1883_001_Vis1AB_Home1A</td>\n",
       "      <td>145023</td>\n",
       "      <td>5</td>\n",
       "    </tr>\n",
       "    <tr>\n",
       "      <th>...</th>\n",
       "      <td>...</td>\n",
       "      <td>...</td>\n",
       "      <td>...</td>\n",
       "    </tr>\n",
       "    <tr>\n",
       "      <th>93037</th>\n",
       "      <td>1884_143_Vis4BE_Home4A</td>\n",
       "      <td>10067400</td>\n",
       "      <td>288</td>\n",
       "    </tr>\n",
       "    <tr>\n",
       "      <th>93038</th>\n",
       "      <td>1884_143_Vis4BE_Home4A</td>\n",
       "      <td>10087900</td>\n",
       "      <td>289</td>\n",
       "    </tr>\n",
       "    <tr>\n",
       "      <th>93039</th>\n",
       "      <td>1884_143_Vis4BE_Home4A</td>\n",
       "      <td>10110750</td>\n",
       "      <td>290</td>\n",
       "    </tr>\n",
       "    <tr>\n",
       "      <th>93040</th>\n",
       "      <td>1884_143_Vis4BE_Home4A</td>\n",
       "      <td>10132950</td>\n",
       "      <td>291</td>\n",
       "    </tr>\n",
       "    <tr>\n",
       "      <th>93041</th>\n",
       "      <td>1884_143_Vis4BE_Home4A</td>\n",
       "      <td>10150100</td>\n",
       "      <td>292</td>\n",
       "    </tr>\n",
       "  </tbody>\n",
       "</table>\n",
       "<p>93042 rows × 3 columns</p>\n",
       "</div>"
      ],
      "text/plain": [
       "                     game_str  timestamp  play_per_game\n",
       "0      1883_001_Vis1AB_Home1A      51773              1\n",
       "1      1883_001_Vis1AB_Home1A      67373              2\n",
       "2      1883_001_Vis1AB_Home1A     101623              3\n",
       "3      1883_001_Vis1AB_Home1A     114323              4\n",
       "4      1883_001_Vis1AB_Home1A     145023              5\n",
       "...                       ...        ...            ...\n",
       "93037  1884_143_Vis4BE_Home4A   10067400            288\n",
       "93038  1884_143_Vis4BE_Home4A   10087900            289\n",
       "93039  1884_143_Vis4BE_Home4A   10110750            290\n",
       "93040  1884_143_Vis4BE_Home4A   10132950            291\n",
       "93041  1884_143_Vis4BE_Home4A   10150100            292\n",
       "\n",
       "[93042 rows x 3 columns]"
      ]
     },
     "execution_count": 5,
     "metadata": {},
     "output_type": "execute_result"
    }
   ],
   "source": [
    "all_pitches = game_events_ds.to_table(\n",
    "    filter=pitches_only_criteria,\n",
    "    columns=['game_str', 'timestamp', 'play_per_game']\n",
    ").to_pandas()\n",
    "\n",
    "all_pitches"
   ]
  },
  {
   "cell_type": "markdown",
   "id": "d17cda50-114f-493a-831d-3aab3aa0a3b5",
   "metadata": {},
   "source": [
    "The following demonstrates that there are two rows that are duplicated for some reason."
   ]
  },
  {
   "cell_type": "code",
   "execution_count": 6,
   "id": "80214027-9225-4bd2-8a1c-2bfd4a6031f5",
   "metadata": {},
   "outputs": [
    {
     "name": "stdout",
     "output_type": "stream",
     "text": [
      "game_str                timestamp  play_per_game\n",
      "1884_113_Vis1AZ_Home1A  10799389   297              3\n",
      "Name: count, dtype: int64\n",
      "Number of duplicated pitches:  2\n"
     ]
    }
   ],
   "source": [
    "counts = all_pitches.value_counts()\n",
    "print(counts[counts > 1])\n",
    "\n",
    "print(\"Number of duplicated pitches: \", sum(all_pitches.duplicated()))"
   ]
  },
  {
   "cell_type": "markdown",
   "id": "f41cde4e-ae14-4cd4-8cc8-1a26c8278372",
   "metadata": {},
   "source": [
    "## Remove Duplicates\n",
    "So we'll remove the duplicates:"
   ]
  },
  {
   "cell_type": "code",
   "execution_count": 7,
   "id": "91edefc1-29a3-4cff-8531-bc99a9627321",
   "metadata": {},
   "outputs": [],
   "source": [
    "all_pitches.drop_duplicates(inplace=True)"
   ]
  },
  {
   "cell_type": "markdown",
   "id": "12400986-7b37-4cdb-a135-9a7db3ce58ae",
   "metadata": {},
   "source": [
    "## What we need for each pitch:\n",
    "\n",
    "- Pitcher Player ID\n",
    "- Timestap\n",
    "- Game\n",
    "- X Ball Location\n",
    "- Y Ball Location\n",
    "- Z Ball Location\n",
    "- X Pitcher Location\n",
    "- Y Pitcher Location"
   ]
  },
  {
   "cell_type": "code",
   "execution_count": 8,
   "id": "21ebcf42-8a7e-445a-ade1-0790ffd1ca3f",
   "metadata": {},
   "outputs": [],
   "source": [
    "ball_pos_ds = readDataSubset('ball_pos')\n",
    "player_pos_ds = readDataSubset('player_pos')\n",
    "game_info_ds = readDataSubset('game_info')"
   ]
  },
  {
   "cell_type": "code",
   "execution_count": 9,
   "id": "74242394-9add-4be7-b099-14417a673b56",
   "metadata": {},
   "outputs": [],
   "source": [
    "def get_pitch_info(pitch,\n",
    "                   ball_pos_ds=ball_pos_ds,\n",
    "                   player_pos_ds=player_pos_ds,\n",
    "                   game_info_ds=game_info_ds):\n",
    "    \"\"\"Gets key info about pitches\n",
    "\n",
    "    pitch : dict | A dictionary with key values\n",
    "                   'game_str', 'timestamp' and\n",
    "                   'play_per_game'.\n",
    "    \"\"\"\n",
    "    # Get game_str, timestamp and play_per_game vars from pitch dict\n",
    "    game_str = pitch.get(\"game_str\", None)\n",
    "    timestamp = pitch.get(\"timestamp\", None)\n",
    "    play_per_game = pitch.get(\"play_per_game\", None)\n",
    "\n",
    "    # Look for bad input values\n",
    "    if game_str  == None or timestamp == None or play_per_game == None:\n",
    "        raise ValueError(\"Must provide game_str, timestamp and player_per_game in pitch dict\")\n",
    "    if not isinstance(game_str, str):\n",
    "        raise ValueError(\"game_str must be a string\")\n",
    "    if not isinstance(timestamp, int):\n",
    "        raise ValueError(\"timestamp must be an int\")\n",
    "\n",
    "    # Get x, y, z locations for ball:\n",
    "    ball_pos_criteria = ((pads.field(\"game_str\")==game_str) & \n",
    "                         (pads.field(\"timestamp\")==timestamp))\n",
    "    ball_pos_df = ball_pos_ds.to_table(\n",
    "        filter=ball_pos_criteria,\n",
    "        columns=['ball_position_x', 'ball_position_y', 'ball_position_z']\n",
    "    ).to_pandas()\n",
    "    x_ball_pos = ball_pos_df.iloc[0].ball_position_x\n",
    "    y_ball_pos = ball_pos_df.iloc[0].ball_position_y\n",
    "    z_ball_pos = ball_pos_df.iloc[0].ball_position_z\n",
    "\n",
    "    # Get x, y locations for pitcher:\n",
    "    pitcher_position_code = 1\n",
    "    pitcher_pos_criteria = ((pads.field(\"game_str\")==game_str) &\n",
    "                            (pads.field(\"timestamp\")==timestamp) &\n",
    "                            (pads.field(\"player_position\")==pitcher_position_code))\n",
    "    player_pos_df = player_pos_ds.to_table(\n",
    "        filter=pitcher_pos_criteria,\n",
    "        columns=['field_x', 'field_y']\n",
    "    ).to_pandas()\n",
    "    x_pitcher_pos = player_pos_df.iloc[0].field_x\n",
    "    y_pitcher_pos = player_pos_df.iloc[0].field_y\n",
    "\n",
    "    # Get pitcher player ID:\n",
    "    # game_info_criteria = ((pads.field(\"game_str\")==game_str) &\n",
    "    #                       (pads.field(\"play_per_game\")==play_per_game))\n",
    "    # game_info_df = game_info_ds.to_table(\n",
    "    #     filter=game_info_criteria,\n",
    "    #     columns=[\"pitcher\"]\n",
    "    # ).to_pandas()\n",
    "    # pitcher_player_id = game_info_df.iloc[0].pitcher\n",
    "    return {\n",
    "        \"game_str\": game_str,\n",
    "        \"timestamp\": timestamp,\n",
    "        \"play_per_game\": play_per_game,\n",
    "        \"x_ball_pos\": x_ball_pos,\n",
    "        \"y_ball_pos\": y_ball_pos,\n",
    "        \"z_ball_pos\": z_ball_pos,\n",
    "        \"x_pitcher_pos\": x_pitcher_pos,\n",
    "        \"y_pitcher_pos\": y_pitcher_pos,\n",
    "        # \"pitcher_player_id\": pitcher_player_id\n",
    "    }"
   ]
  },
  {
   "cell_type": "code",
   "execution_count": 10,
   "id": "fe517643-ce92-4870-ac4e-503ca11b3294",
   "metadata": {},
   "outputs": [
    {
     "data": {
      "text/plain": [
       "{'game_str': '1883_003_Vis1AB_Home1A',\n",
       " 'timestamp': 5964348,\n",
       " 'play_per_game': 177}"
      ]
     },
     "execution_count": 10,
     "metadata": {},
     "output_type": "execute_result"
    }
   ],
   "source": [
    "all_pitches.loc[500].to_dict()"
   ]
  },
  {
   "cell_type": "code",
   "execution_count": 11,
   "id": "e8368a02-1691-40b7-adaf-0fae02ef9542",
   "metadata": {},
   "outputs": [
    {
     "data": {
      "text/plain": [
       "{'game_str': '1883_003_Vis1AB_Home1A',\n",
       " 'timestamp': 5964348,\n",
       " 'play_per_game': 177,\n",
       " 'x_ball_pos': -1.478655,\n",
       " 'y_ball_pos': 55.5984,\n",
       " 'z_ball_pos': 5.44674,\n",
       " 'x_pitcher_pos': -0.0189,\n",
       " 'y_pitcher_pos': 55.6152}"
      ]
     },
     "execution_count": 11,
     "metadata": {},
     "output_type": "execute_result"
    }
   ],
   "source": [
    "get_pitch_info(all_pitches.loc[500].to_dict())"
   ]
  },
  {
   "cell_type": "code",
   "execution_count": 10,
   "id": "e9155e64-38a5-4b7c-bbe7-f7b9e550d616",
   "metadata": {
    "scrolled": true
   },
   "outputs": [
    {
     "data": {
      "text/plain": [
       "'http://127.0.0.1:8787/status'"
      ]
     },
     "execution_count": 10,
     "metadata": {},
     "output_type": "execute_result"
    }
   ],
   "source": [
    "client = LocalCluster().get_client()\n",
    "client.dashboard_link"
   ]
  },
  {
   "cell_type": "code",
   "execution_count": 11,
   "id": "90a82c7c-7992-4008-a6ec-79b661726819",
   "metadata": {},
   "outputs": [],
   "source": [
    "pitch_dict_list = []\n",
    "for _, pitch_row in all_pitches.iloc[0:100].iterrows():\n",
    "    pitch_dict_list.append(pitch_row.to_dict())"
   ]
  },
  {
   "cell_type": "code",
   "execution_count": 13,
   "id": "a6635687-1720-4969-a2bf-d00cc48a8dc2",
   "metadata": {},
   "outputs": [],
   "source": [
    "futures = client.map(get_pitch_info, pitch_dict_list)\n",
    "results = client.gather(futures)"
   ]
  },
  {
   "cell_type": "code",
   "execution_count": 17,
   "id": "6548fe67-c74c-469c-8aca-59cf5f82d7c4",
   "metadata": {},
   "outputs": [
    {
     "data": {
      "text/plain": [
       "93040"
      ]
     },
     "execution_count": 17,
     "metadata": {},
     "output_type": "execute_result"
    }
   ],
   "source": [
    "list(range(0, len(all_pitches), 100))\n",
    "len(all_pitches)"
   ]
  },
  {
   "cell_type": "code",
   "execution_count": 18,
   "id": "e2518562-c0cb-4ad4-b0ee-5437241a0999",
   "metadata": {},
   "outputs": [
    {
     "data": {
      "text/html": [
       "<div>\n",
       "<style scoped>\n",
       "    .dataframe tbody tr th:only-of-type {\n",
       "        vertical-align: middle;\n",
       "    }\n",
       "\n",
       "    .dataframe tbody tr th {\n",
       "        vertical-align: top;\n",
       "    }\n",
       "\n",
       "    .dataframe thead th {\n",
       "        text-align: right;\n",
       "    }\n",
       "</style>\n",
       "<table border=\"1\" class=\"dataframe\">\n",
       "  <thead>\n",
       "    <tr style=\"text-align: right;\">\n",
       "      <th></th>\n",
       "      <th>game_str</th>\n",
       "      <th>timestamp</th>\n",
       "      <th>play_per_game</th>\n",
       "      <th>x_ball_pos</th>\n",
       "      <th>y_ball_pos</th>\n",
       "      <th>z_ball_pos</th>\n",
       "      <th>x_pitcher_pos</th>\n",
       "      <th>y_pitcher_pos</th>\n",
       "    </tr>\n",
       "  </thead>\n",
       "  <tbody>\n",
       "    <tr>\n",
       "      <th>0</th>\n",
       "      <td>1883_001_Vis1AB_Home1A</td>\n",
       "      <td>51773</td>\n",
       "      <td>1</td>\n",
       "      <td>-0.908664</td>\n",
       "      <td>53.9532</td>\n",
       "      <td>5.27157</td>\n",
       "      <td>0.8301</td>\n",
       "      <td>56.5002</td>\n",
       "    </tr>\n",
       "    <tr>\n",
       "      <th>1</th>\n",
       "      <td>1883_001_Vis1AB_Home1A</td>\n",
       "      <td>67373</td>\n",
       "      <td>2</td>\n",
       "      <td>-0.956334</td>\n",
       "      <td>55.6236</td>\n",
       "      <td>5.09457</td>\n",
       "      <td>1.0800</td>\n",
       "      <td>56.7825</td>\n",
       "    </tr>\n",
       "    <tr>\n",
       "      <th>2</th>\n",
       "      <td>1883_001_Vis1AB_Home1A</td>\n",
       "      <td>101623</td>\n",
       "      <td>3</td>\n",
       "      <td>-0.754755</td>\n",
       "      <td>54.0678</td>\n",
       "      <td>5.47488</td>\n",
       "      <td>0.5217</td>\n",
       "      <td>56.6208</td>\n",
       "    </tr>\n",
       "    <tr>\n",
       "      <th>3</th>\n",
       "      <td>1883_001_Vis1AB_Home1A</td>\n",
       "      <td>114323</td>\n",
       "      <td>4</td>\n",
       "      <td>-0.772560</td>\n",
       "      <td>54.1737</td>\n",
       "      <td>5.39784</td>\n",
       "      <td>0.3567</td>\n",
       "      <td>56.3025</td>\n",
       "    </tr>\n",
       "    <tr>\n",
       "      <th>4</th>\n",
       "      <td>1883_001_Vis1AB_Home1A</td>\n",
       "      <td>145023</td>\n",
       "      <td>5</td>\n",
       "      <td>-0.366129</td>\n",
       "      <td>53.0592</td>\n",
       "      <td>5.39004</td>\n",
       "      <td>-0.0537</td>\n",
       "      <td>56.0829</td>\n",
       "    </tr>\n",
       "    <tr>\n",
       "      <th>...</th>\n",
       "      <td>...</td>\n",
       "      <td>...</td>\n",
       "      <td>...</td>\n",
       "      <td>...</td>\n",
       "      <td>...</td>\n",
       "      <td>...</td>\n",
       "      <td>...</td>\n",
       "      <td>...</td>\n",
       "    </tr>\n",
       "    <tr>\n",
       "      <th>95</th>\n",
       "      <td>1883_001_Vis1AB_Home1A</td>\n",
       "      <td>3062923</td>\n",
       "      <td>98</td>\n",
       "      <td>-0.542982</td>\n",
       "      <td>54.3357</td>\n",
       "      <td>5.27118</td>\n",
       "      <td>0.7641</td>\n",
       "      <td>58.6095</td>\n",
       "    </tr>\n",
       "    <tr>\n",
       "      <th>96</th>\n",
       "      <td>1883_001_Vis1AB_Home1A</td>\n",
       "      <td>3075323</td>\n",
       "      <td>99</td>\n",
       "      <td>-0.885663</td>\n",
       "      <td>55.4142</td>\n",
       "      <td>5.25726</td>\n",
       "      <td>1.0839</td>\n",
       "      <td>56.6736</td>\n",
       "    </tr>\n",
       "    <tr>\n",
       "      <th>97</th>\n",
       "      <td>1883_001_Vis1AB_Home1A</td>\n",
       "      <td>3093373</td>\n",
       "      <td>100</td>\n",
       "      <td>-0.740304</td>\n",
       "      <td>52.7874</td>\n",
       "      <td>5.26554</td>\n",
       "      <td>0.2043</td>\n",
       "      <td>57.6858</td>\n",
       "    </tr>\n",
       "    <tr>\n",
       "      <th>98</th>\n",
       "      <td>1883_001_Vis1AB_Home1A</td>\n",
       "      <td>3126723</td>\n",
       "      <td>101</td>\n",
       "      <td>-0.738522</td>\n",
       "      <td>56.6241</td>\n",
       "      <td>5.42343</td>\n",
       "      <td>0.4323</td>\n",
       "      <td>55.7787</td>\n",
       "    </tr>\n",
       "    <tr>\n",
       "      <th>99</th>\n",
       "      <td>1883_001_Vis1AB_Home1A</td>\n",
       "      <td>3295723</td>\n",
       "      <td>102</td>\n",
       "      <td>1.619334</td>\n",
       "      <td>52.9827</td>\n",
       "      <td>4.85958</td>\n",
       "      <td>-0.0555</td>\n",
       "      <td>58.4985</td>\n",
       "    </tr>\n",
       "  </tbody>\n",
       "</table>\n",
       "<p>100 rows × 8 columns</p>\n",
       "</div>"
      ],
      "text/plain": [
       "                  game_str  timestamp  play_per_game  x_ball_pos  y_ball_pos  \\\n",
       "0   1883_001_Vis1AB_Home1A      51773              1   -0.908664     53.9532   \n",
       "1   1883_001_Vis1AB_Home1A      67373              2   -0.956334     55.6236   \n",
       "2   1883_001_Vis1AB_Home1A     101623              3   -0.754755     54.0678   \n",
       "3   1883_001_Vis1AB_Home1A     114323              4   -0.772560     54.1737   \n",
       "4   1883_001_Vis1AB_Home1A     145023              5   -0.366129     53.0592   \n",
       "..                     ...        ...            ...         ...         ...   \n",
       "95  1883_001_Vis1AB_Home1A    3062923             98   -0.542982     54.3357   \n",
       "96  1883_001_Vis1AB_Home1A    3075323             99   -0.885663     55.4142   \n",
       "97  1883_001_Vis1AB_Home1A    3093373            100   -0.740304     52.7874   \n",
       "98  1883_001_Vis1AB_Home1A    3126723            101   -0.738522     56.6241   \n",
       "99  1883_001_Vis1AB_Home1A    3295723            102    1.619334     52.9827   \n",
       "\n",
       "    z_ball_pos  x_pitcher_pos  y_pitcher_pos  \n",
       "0      5.27157         0.8301        56.5002  \n",
       "1      5.09457         1.0800        56.7825  \n",
       "2      5.47488         0.5217        56.6208  \n",
       "3      5.39784         0.3567        56.3025  \n",
       "4      5.39004        -0.0537        56.0829  \n",
       "..         ...            ...            ...  \n",
       "95     5.27118         0.7641        58.6095  \n",
       "96     5.25726         1.0839        56.6736  \n",
       "97     5.26554         0.2043        57.6858  \n",
       "98     5.42343         0.4323        55.7787  \n",
       "99     4.85958        -0.0555        58.4985  \n",
       "\n",
       "[100 rows x 8 columns]"
      ]
     },
     "execution_count": 18,
     "metadata": {},
     "output_type": "execute_result"
    }
   ],
   "source": [
    "pd.DataFrame(results)"
   ]
  },
  {
   "cell_type": "code",
   "execution_count": null,
   "id": "a16dd74b-b8b8-45d4-a3e7-5c483325f3a0",
   "metadata": {},
   "outputs": [],
   "source": []
  }
 ],
 "metadata": {
  "kernelspec": {
   "display_name": "Python 3 (ipykernel)",
   "language": "python",
   "name": "python3"
  },
  "language_info": {
   "codemirror_mode": {
    "name": "ipython",
    "version": 3
   },
   "file_extension": ".py",
   "mimetype": "text/x-python",
   "name": "python",
   "nbconvert_exporter": "python",
   "pygments_lexer": "ipython3",
   "version": "3.12.0"
  }
 },
 "nbformat": 4,
 "nbformat_minor": 5
}
